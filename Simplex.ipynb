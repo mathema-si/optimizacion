{
 "cells": [
  {
   "cell_type": "raw",
   "metadata": {
    "slideshow": {
     "slide_type": "notes"
    }
   },
   "source": [
    "Ejemplo.\n",
    "\n",
    "Una empresa fabrica dos tipos de transformadores: T1 y T2\n",
    "• Para cada transformador tipo 1 se requieren 5 kg de hierro y 3 kg de alambre.\n",
    "• Para cada transformador tipo 2 se requieren 3 kg de hierro y 2 kg de alambre.\n",
    "Cada transformador T1 deja $7.00 de ganancia y cada T2 deja $5.00 de utilidad. Las reservas de la empresa son: 480 kg de hierro y 300 kg de alambre.\n",
    "¿Cuántos transformadores debe construir de cada tipo para maximizar la utilidad?"
   ]
  },
  {
   "cell_type": "raw",
   "metadata": {},
   "source": [
    "Sea x = número de transformadores tipo 1.\n",
    "    y = número de transformadores tipo 2."
   ]
  },
  {
   "cell_type": "raw",
   "metadata": {},
   "source": [
    "Función Objetivo: máx{U= 7x + 5y} "
   ]
  },
  {
   "cell_type": "raw",
   "metadata": {},
   "source": [
    "Restricciones:\n",
    "5x + 3y <= 480\n",
    "3x + 2y <= 300"
   ]
  },
  {
   "cell_type": "markdown",
   "metadata": {},
   "source": [
    "Solución en R"
   ]
  },
  {
   "cell_type": "code",
   "execution_count": 6,
   "metadata": {},
   "outputs": [],
   "source": [
    "library(boot)"
   ]
  },
  {
   "cell_type": "code",
   "execution_count": 7,
   "metadata": {},
   "outputs": [],
   "source": [
    "func<-c(7,5)\n",
    "# Coeficientes de la función objetivo"
   ]
  },
  {
   "cell_type": "code",
   "execution_count": 10,
   "metadata": {},
   "outputs": [],
   "source": [
    "restricciones <-matrix(c(5,3,3,2),2,2,byrow=TRUE)\n",
    "# matriz de restricciones (Menor o Igual)"
   ]
  },
  {
   "cell_type": "code",
   "execution_count": 11,
   "metadata": {},
   "outputs": [
    {
     "data": {
      "text/html": [
       "<table>\n",
       "<caption>A matrix: 2 × 2 of type dbl</caption>\n",
       "<tbody>\n",
       "\t<tr><td>5</td><td>3</td></tr>\n",
       "\t<tr><td>3</td><td>2</td></tr>\n",
       "</tbody>\n",
       "</table>\n"
      ],
      "text/latex": [
       "A matrix: 2 × 2 of type dbl\n",
       "\\begin{tabular}{ll}\n",
       "\t 5 & 3\\\\\n",
       "\t 3 & 2\\\\\n",
       "\\end{tabular}\n"
      ],
      "text/markdown": [
       "\n",
       "A matrix: 2 × 2 of type dbl\n",
       "\n",
       "| 5 | 3 |\n",
       "| 3 | 2 |\n",
       "\n"
      ],
      "text/plain": [
       "     [,1] [,2]\n",
       "[1,] 5    3   \n",
       "[2,] 3    2   "
      ]
     },
     "metadata": {},
     "output_type": "display_data"
    }
   ],
   "source": [
    "restricciones"
   ]
  },
  {
   "cell_type": "code",
   "execution_count": 12,
   "metadata": {},
   "outputs": [],
   "source": [
    "indep<-c(480,300)\n",
    "# Términos independientes"
   ]
  },
  {
   "cell_type": "code",
   "execution_count": 13,
   "metadata": {},
   "outputs": [],
   "source": [
    "mySimplex <- simplex(func, A1 = restricciones, b1= indep,maxi=TRUE)"
   ]
  },
  {
   "cell_type": "code",
   "execution_count": 14,
   "metadata": {},
   "outputs": [
    {
     "data": {
      "text/plain": [
       "\n",
       "Linear Programming Results\n",
       "\n",
       "Call : simplex(a = func, A1 = restricciones, b1 = indep, maxi = TRUE)\n",
       "\n",
       "Maximization Problem with Objective Function Coefficients\n",
       "x1 x2 \n",
       " 7  5 \n",
       "\n",
       "\n",
       "Optimal solution has the following values\n",
       " x1  x2 \n",
       "  0 150 \n",
       "The optimal value of the objective  function is 750."
      ]
     },
     "metadata": {},
     "output_type": "display_data"
    }
   ],
   "source": [
    "mySimplex"
   ]
  }
 ],
 "metadata": {
  "kernelspec": {
   "display_name": "R",
   "language": "R",
   "name": "conda-env-r-r"
  },
  "language_info": {
   "codemirror_mode": "r",
   "file_extension": ".r",
   "mimetype": "text/x-r-source",
   "name": "R",
   "pygments_lexer": "r",
   "version": "3.5.1"
  }
 },
 "nbformat": 4,
 "nbformat_minor": 4
}
